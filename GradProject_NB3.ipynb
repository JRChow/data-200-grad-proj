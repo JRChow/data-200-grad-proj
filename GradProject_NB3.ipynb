{
 "cells": [
  {
   "cell_type": "markdown",
   "metadata": {},
   "source": [
    "\n",
    "<h1> DS200A Computer Vision Assignment</h1>"
   ]
  },
  {
   "cell_type": "code",
   "execution_count": 61,
   "metadata": {
    "collapsed": true
   },
   "outputs": [],
   "source": [
    "import numpy as np\n",
    "from sklearn.model_selection import train_test_split\n",
    "from sklearn.model_selection import cross_val_score"
   ]
  },
  {
   "cell_type": "markdown",
   "metadata": {},
   "source": [
    "<h2>  Part Three: Classifier training and performance assessment. </h2>\t"
   ]
  },
  {
   "cell_type": "code",
   "execution_count": 139,
   "metadata": {
    "collapsed": true
   },
   "outputs": [],
   "source": [
    "def split(df):\n",
    "    # Split the data into a training set, and test set \n",
    "    y = data[[\"Encodings\"]]\n",
    "    X = data.drop([\"Encodings\", \"Pictures\"], axis=1)\n",
    "    X_train, X_test, y_train, y_test = train_test_split(X, y, test_size=0.15, random_state=42)\n",
    "    return X_train, X_test, y_train, y_test\n",
    "\n",
    "\n",
    "def accuracy(pred, actual):\n",
    "    # Calculate the accuracy percentage of the predicted values\n",
    "    return sum(pred == actual) / len(actual)"
   ]
  },
  {
   "cell_type": "markdown",
   "metadata": {},
   "source": [
    "<h3>  Train models using all of the following methods below. Be sure to drop the actual image column, and the encoding</h3>\tTake note of the differences in accuracy, and methods.\n"
   ]
  },
  {
   "cell_type": "markdown",
   "metadata": {},
   "source": [
    "Let's load the dataset first."
   ]
  },
  {
   "cell_type": "code",
   "execution_count": 140,
   "metadata": {},
   "outputs": [
    {
     "data": {
      "text/html": [
       "<div>\n",
       "<style scoped>\n",
       "    .dataframe tbody tr th:only-of-type {\n",
       "        vertical-align: middle;\n",
       "    }\n",
       "\n",
       "    .dataframe tbody tr th {\n",
       "        vertical-align: top;\n",
       "    }\n",
       "\n",
       "    .dataframe thead th {\n",
       "        text-align: right;\n",
       "    }\n",
       "</style>\n",
       "<table border=\"1\" class=\"dataframe\">\n",
       "  <thead>\n",
       "    <tr style=\"text-align: right;\">\n",
       "      <th></th>\n",
       "      <th>Pictures</th>\n",
       "      <th>Encodings</th>\n",
       "      <th>size</th>\n",
       "      <th>avg_r</th>\n",
       "      <th>aspect_ratio</th>\n",
       "      <th>avg_b</th>\n",
       "      <th>avg_g</th>\n",
       "      <th>avg_hue</th>\n",
       "      <th>avg_sat</th>\n",
       "      <th>avg_bright</th>\n",
       "      <th>...</th>\n",
       "      <th>190</th>\n",
       "      <th>191</th>\n",
       "      <th>192</th>\n",
       "      <th>193</th>\n",
       "      <th>194</th>\n",
       "      <th>195</th>\n",
       "      <th>196</th>\n",
       "      <th>197</th>\n",
       "      <th>198</th>\n",
       "      <th>199</th>\n",
       "    </tr>\n",
       "  </thead>\n",
       "  <tbody>\n",
       "    <tr>\n",
       "      <th>0</th>\n",
       "      <td>[[[255, 255, 255], [255, 255, 255], [255, 255,...</td>\n",
       "      <td>0</td>\n",
       "      <td>194535</td>\n",
       "      <td>170.123787</td>\n",
       "      <td>2.381818</td>\n",
       "      <td>111.753798</td>\n",
       "      <td>147.788681</td>\n",
       "      <td>42.172087</td>\n",
       "      <td>120.420202</td>\n",
       "      <td>178.581633</td>\n",
       "      <td>...</td>\n",
       "      <td>1.0</td>\n",
       "      <td>5.0</td>\n",
       "      <td>6.0</td>\n",
       "      <td>1.0</td>\n",
       "      <td>1.0</td>\n",
       "      <td>1.0</td>\n",
       "      <td>0.0</td>\n",
       "      <td>1.0</td>\n",
       "      <td>2.0</td>\n",
       "      <td>0.0</td>\n",
       "    </tr>\n",
       "    <tr>\n",
       "      <th>1</th>\n",
       "      <td>[[[88, 56, 17], [95, 63, 24], [101, 69, 30], [...</td>\n",
       "      <td>0</td>\n",
       "      <td>208278</td>\n",
       "      <td>98.426973</td>\n",
       "      <td>2.293103</td>\n",
       "      <td>67.531631</td>\n",
       "      <td>104.499870</td>\n",
       "      <td>40.144197</td>\n",
       "      <td>126.898583</td>\n",
       "      <td>110.955982</td>\n",
       "      <td>...</td>\n",
       "      <td>0.0</td>\n",
       "      <td>9.0</td>\n",
       "      <td>2.0</td>\n",
       "      <td>1.0</td>\n",
       "      <td>1.0</td>\n",
       "      <td>0.0</td>\n",
       "      <td>2.0</td>\n",
       "      <td>0.0</td>\n",
       "      <td>1.0</td>\n",
       "      <td>0.0</td>\n",
       "    </tr>\n",
       "    <tr>\n",
       "      <th>2</th>\n",
       "      <td>[[[255, 255, 255], [255, 255, 255], [255, 255,...</td>\n",
       "      <td>0</td>\n",
       "      <td>201096</td>\n",
       "      <td>174.865318</td>\n",
       "      <td>2.292398</td>\n",
       "      <td>163.577814</td>\n",
       "      <td>175.592150</td>\n",
       "      <td>37.242541</td>\n",
       "      <td>50.880937</td>\n",
       "      <td>179.086287</td>\n",
       "      <td>...</td>\n",
       "      <td>0.0</td>\n",
       "      <td>2.0</td>\n",
       "      <td>10.0</td>\n",
       "      <td>0.0</td>\n",
       "      <td>2.0</td>\n",
       "      <td>0.0</td>\n",
       "      <td>0.0</td>\n",
       "      <td>0.0</td>\n",
       "      <td>1.0</td>\n",
       "      <td>0.0</td>\n",
       "    </tr>\n",
       "    <tr>\n",
       "      <th>3</th>\n",
       "      <td>[[[255, 255, 255], [255, 255, 255], [255, 255,...</td>\n",
       "      <td>0</td>\n",
       "      <td>221352</td>\n",
       "      <td>210.739822</td>\n",
       "      <td>2.179348</td>\n",
       "      <td>164.805242</td>\n",
       "      <td>189.280101</td>\n",
       "      <td>23.024612</td>\n",
       "      <td>69.222569</td>\n",
       "      <td>210.805961</td>\n",
       "      <td>...</td>\n",
       "      <td>1.0</td>\n",
       "      <td>0.0</td>\n",
       "      <td>11.0</td>\n",
       "      <td>0.0</td>\n",
       "      <td>0.0</td>\n",
       "      <td>0.0</td>\n",
       "      <td>0.0</td>\n",
       "      <td>0.0</td>\n",
       "      <td>0.0</td>\n",
       "      <td>0.0</td>\n",
       "    </tr>\n",
       "    <tr>\n",
       "      <th>4</th>\n",
       "      <td>[[[255, 255, 255], [255, 255, 255], [255, 255,...</td>\n",
       "      <td>0</td>\n",
       "      <td>166662</td>\n",
       "      <td>147.548565</td>\n",
       "      <td>2.794326</td>\n",
       "      <td>127.917054</td>\n",
       "      <td>155.967905</td>\n",
       "      <td>44.592073</td>\n",
       "      <td>89.481027</td>\n",
       "      <td>157.456385</td>\n",
       "      <td>...</td>\n",
       "      <td>1.0</td>\n",
       "      <td>5.0</td>\n",
       "      <td>5.0</td>\n",
       "      <td>0.0</td>\n",
       "      <td>0.0</td>\n",
       "      <td>0.0</td>\n",
       "      <td>0.0</td>\n",
       "      <td>1.0</td>\n",
       "      <td>0.0</td>\n",
       "      <td>0.0</td>\n",
       "    </tr>\n",
       "  </tbody>\n",
       "</table>\n",
       "<p>5 rows × 410 columns</p>\n",
       "</div>"
      ],
      "text/plain": [
       "                                            Pictures  Encodings    size  \\\n",
       "0  [[[255, 255, 255], [255, 255, 255], [255, 255,...          0  194535   \n",
       "1  [[[88, 56, 17], [95, 63, 24], [101, 69, 30], [...          0  208278   \n",
       "2  [[[255, 255, 255], [255, 255, 255], [255, 255,...          0  201096   \n",
       "3  [[[255, 255, 255], [255, 255, 255], [255, 255,...          0  221352   \n",
       "4  [[[255, 255, 255], [255, 255, 255], [255, 255,...          0  166662   \n",
       "\n",
       "        avg_r  aspect_ratio       avg_b       avg_g    avg_hue     avg_sat  \\\n",
       "0  170.123787      2.381818  111.753798  147.788681  42.172087  120.420202   \n",
       "1   98.426973      2.293103   67.531631  104.499870  40.144197  126.898583   \n",
       "2  174.865318      2.292398  163.577814  175.592150  37.242541   50.880937   \n",
       "3  210.739822      2.179348  164.805242  189.280101  23.024612   69.222569   \n",
       "4  147.548565      2.794326  127.917054  155.967905  44.592073   89.481027   \n",
       "\n",
       "   avg_bright ...   190  191   192  193  194  195  196  197  198  199  \n",
       "0  178.581633 ...   1.0  5.0   6.0  1.0  1.0  1.0  0.0  1.0  2.0  0.0  \n",
       "1  110.955982 ...   0.0  9.0   2.0  1.0  1.0  0.0  2.0  0.0  1.0  0.0  \n",
       "2  179.086287 ...   0.0  2.0  10.0  0.0  2.0  0.0  0.0  0.0  1.0  0.0  \n",
       "3  210.805961 ...   1.0  0.0  11.0  0.0  0.0  0.0  0.0  0.0  0.0  0.0  \n",
       "4  157.456385 ...   1.0  5.0   5.0  0.0  0.0  0.0  0.0  1.0  0.0  0.0  \n",
       "\n",
       "[5 rows x 410 columns]"
      ]
     },
     "execution_count": 140,
     "metadata": {},
     "output_type": "execute_result"
    }
   ],
   "source": [
    "import pandas as pd\n",
    "import numpy as np\n",
    "\n",
    "data = pd.read_pickle(\"train_with_feature.pkl\")\n",
    "data.head()"
   ]
  },
  {
   "cell_type": "code",
   "execution_count": 141,
   "metadata": {
    "collapsed": true
   },
   "outputs": [],
   "source": [
    "X_train, X_test, y_train, y_test = split(data)"
   ]
  },
  {
   "cell_type": "markdown",
   "metadata": {},
   "source": [
    "Logistic Regression"
   ]
  },
  {
   "cell_type": "code",
   "execution_count": 142,
   "metadata": {},
   "outputs": [
    {
     "name": "stdout",
     "output_type": "stream",
     "text": [
      "CV = 0.42691618162952844\n"
     ]
    }
   ],
   "source": [
    "from sklearn.linear_model import LogisticRegression\n",
    "from sklearn.model_selection import KFold\n",
    "import numpy as np\n",
    "\n",
    "clf = LogisticRegression(random_state=42, \n",
    "                         multi_class='auto',\n",
    "                         solver='liblinear',\n",
    "                         max_iter=5000)\n",
    "print(\"CV =\", np.mean(cross_val_score(clf, X_train, y_train.values.ravel(), cv=5)))"
   ]
  },
  {
   "cell_type": "code",
   "execution_count": 143,
   "metadata": {},
   "outputs": [
    {
     "name": "stdout",
     "output_type": "stream",
     "text": [
      "test =  0.4469026548672566\n"
     ]
    }
   ],
   "source": [
    "test_acc = accuracy(clf.fit(X_train, y_train.values.ravel()).predict(X_test), y_test.values.ravel())\n",
    "print(\"test = \", test_acc)"
   ]
  },
  {
   "cell_type": "markdown",
   "metadata": {},
   "source": [
    "K-nearest Neighbors"
   ]
  },
  {
   "cell_type": "code",
   "execution_count": 144,
   "metadata": {},
   "outputs": [
    {
     "name": "stdout",
     "output_type": "stream",
     "text": [
      "CV = 0.21333623879961316\n"
     ]
    }
   ],
   "source": [
    "from sklearn.neighbors import KNeighborsClassifier\n",
    "\n",
    "neigh = KNeighborsClassifier(n_neighbors=120)\n",
    "\n",
    "print(\"CV =\", np.mean(cross_val_score(neigh, X_train, y_train.values.ravel(), cv=5)))"
   ]
  },
  {
   "cell_type": "code",
   "execution_count": 145,
   "metadata": {},
   "outputs": [
    {
     "name": "stdout",
     "output_type": "stream",
     "text": [
      "test =  0.20353982300884957\n"
     ]
    }
   ],
   "source": [
    "test_acc = accuracy(neigh.fit(X_train, y_train.values.ravel()).predict(X_test), y_test.values.ravel())\n",
    "print(\"test = \", test_acc)"
   ]
  },
  {
   "cell_type": "markdown",
   "metadata": {},
   "source": [
    "Classification Tree"
   ]
  },
  {
   "cell_type": "code",
   "execution_count": 146,
   "metadata": {},
   "outputs": [
    {
     "name": "stdout",
     "output_type": "stream",
     "text": [
      "CV = 0.32792199963361907\n"
     ]
    }
   ],
   "source": [
    "from sklearn.tree import DecisionTreeClassifier\n",
    "\n",
    "clf = DecisionTreeClassifier(random_state=72)\n",
    "print(\"CV =\", np.mean(cross_val_score(clf, X_train, y_train, cv=5)))"
   ]
  },
  {
   "cell_type": "code",
   "execution_count": 147,
   "metadata": {},
   "outputs": [
    {
     "name": "stdout",
     "output_type": "stream",
     "text": [
      "test =  0.336283185840708\n"
     ]
    }
   ],
   "source": [
    "test_acc = accuracy(clf.fit(X_train, y_train.values.ravel()).predict(X_test), y_test.values.ravel())\n",
    "print(\"test = \", test_acc)"
   ]
  },
  {
   "cell_type": "markdown",
   "metadata": {},
   "source": [
    "Random Forest"
   ]
  },
  {
   "cell_type": "code",
   "execution_count": 148,
   "metadata": {},
   "outputs": [
    {
     "name": "stdout",
     "output_type": "stream",
     "text": [
      "CV = 0.4424022311689285\n"
     ]
    }
   ],
   "source": [
    "from sklearn.ensemble import RandomForestClassifier\n",
    "\n",
    "clf = RandomForestClassifier(n_estimators=1000, max_depth=18, random_state=42)\n",
    "print(\"CV =\", np.mean(cross_val_score(clf, X_train, y_train.values.ravel(), cv=5)))"
   ]
  },
  {
   "cell_type": "code",
   "execution_count": 149,
   "metadata": {},
   "outputs": [
    {
     "name": "stdout",
     "output_type": "stream",
     "text": [
      "test =  0.47345132743362833\n"
     ]
    }
   ],
   "source": [
    "test_acc = accuracy(clf.fit(X_train, y_train.values.ravel()).predict(X_test), y_test.values.ravel())\n",
    "print(\"test = \", test_acc)"
   ]
  },
  {
   "cell_type": "markdown",
   "metadata": {},
   "source": [
    "Support Vector Machine"
   ]
  },
  {
   "cell_type": "code",
   "execution_count": 150,
   "metadata": {},
   "outputs": [
    {
     "name": "stdout",
     "output_type": "stream",
     "text": [
      "CV = 0.4756420974526948\n"
     ]
    }
   ],
   "source": [
    "from sklearn.svm import SVC\n",
    "from sklearn.model_selection import cross_val_score\n",
    "from sklearn.multiclass import OneVsRestClassifier\n",
    "from sklearn.preprocessing import MinMaxScaler\n",
    "\n",
    "clf = OneVsRestClassifier(SVC(gamma=\"auto\", probability=False, C=400))\n",
    "scaling = MinMaxScaler(feature_range=(-1,1)).fit(X_train)\n",
    "X_train_scaled = scaling.transform(X_train)\n",
    "print(\"CV =\", np.mean(cross_val_score(clf, X_train_scaled, y_train.values.ravel(), cv=5)))"
   ]
  },
  {
   "cell_type": "code",
   "execution_count": 151,
   "metadata": {},
   "outputs": [
    {
     "name": "stdout",
     "output_type": "stream",
     "text": [
      "test =  0.5132743362831859\n"
     ]
    }
   ],
   "source": [
    "# scaling = MinMaxScaler(feature_range=(-1,1)).fit(X_test)\n",
    "X_test_scaled = scaling.transform(X_test)\n",
    "test_acc = accuracy(clf.fit(X_train_scaled, y_train.values.ravel()).predict(X_test_scaled), y_test.values.ravel())\n",
    "print(\"test = \", test_acc)"
   ]
  },
  {
   "cell_type": "code",
   "execution_count": null,
   "metadata": {
    "collapsed": true
   },
   "outputs": [],
   "source": []
  }
 ],
 "metadata": {
  "kernelspec": {
   "display_name": "Python 3",
   "language": "python",
   "name": "python3"
  },
  "language_info": {
   "codemirror_mode": {
    "name": "ipython",
    "version": 3
   },
   "file_extension": ".py",
   "mimetype": "text/x-python",
   "name": "python",
   "nbconvert_exporter": "python",
   "pygments_lexer": "ipython3",
   "version": "3.6.9"
  }
 },
 "nbformat": 4,
 "nbformat_minor": 2
}
