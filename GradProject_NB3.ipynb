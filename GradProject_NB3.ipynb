{
 "cells": [
  {
   "cell_type": "markdown",
   "metadata": {},
   "source": [
    "\n",
    "<h1> DS200A Computer Vision Assignment</h1>"
   ]
  },
  {
   "cell_type": "markdown",
   "metadata": {},
   "source": [
    "<h2>  Part Three: Classifier training and performance assessment. </h2>\t"
   ]
  },
  {
   "cell_type": "code",
   "execution_count": 39,
   "metadata": {
    "collapsed": true
   },
   "outputs": [],
   "source": [
    "def train_test_split(df):\n",
    "    return df\n",
    "#Split the data into a training set, and test set \n",
    "def accuracy(pred, actual):\n",
    "    return 0\n",
    "# Calculate the accuracy percentage of the predicted values"
   ]
  },
  {
   "cell_type": "markdown",
   "metadata": {},
   "source": [
    "<h3>  Train models using all of the following methods below. Be sure to drop the actual image column, and the encoding</h3>\tTake note of the differences in accuracy, and methods.\n"
   ]
  },
  {
   "cell_type": "markdown",
   "metadata": {},
   "source": [
    "Let's load the dataset first."
   ]
  },
  {
   "cell_type": "code",
   "execution_count": 11,
   "metadata": {},
   "outputs": [
    {
     "data": {
      "text/html": [
       "<div>\n",
       "<style scoped>\n",
       "    .dataframe tbody tr th:only-of-type {\n",
       "        vertical-align: middle;\n",
       "    }\n",
       "\n",
       "    .dataframe tbody tr th {\n",
       "        vertical-align: top;\n",
       "    }\n",
       "\n",
       "    .dataframe thead th {\n",
       "        text-align: right;\n",
       "    }\n",
       "</style>\n",
       "<table border=\"1\" class=\"dataframe\">\n",
       "  <thead>\n",
       "    <tr style=\"text-align: right;\">\n",
       "      <th></th>\n",
       "      <th>size</th>\n",
       "      <th>avg_r</th>\n",
       "      <th>aspect_ratio</th>\n",
       "      <th>avg_b</th>\n",
       "      <th>avg_g</th>\n",
       "      <th>avg_hue</th>\n",
       "      <th>avg_sat</th>\n",
       "      <th>avg_bright</th>\n",
       "      <th>0</th>\n",
       "      <th>1</th>\n",
       "      <th>...</th>\n",
       "      <th>90</th>\n",
       "      <th>91</th>\n",
       "      <th>92</th>\n",
       "      <th>93</th>\n",
       "      <th>94</th>\n",
       "      <th>95</th>\n",
       "      <th>96</th>\n",
       "      <th>97</th>\n",
       "      <th>98</th>\n",
       "      <th>99</th>\n",
       "    </tr>\n",
       "  </thead>\n",
       "  <tbody>\n",
       "    <tr>\n",
       "      <th>0</th>\n",
       "      <td>194535</td>\n",
       "      <td>170.123787</td>\n",
       "      <td>2.381818</td>\n",
       "      <td>111.753798</td>\n",
       "      <td>147.788681</td>\n",
       "      <td>42.172087</td>\n",
       "      <td>120.420202</td>\n",
       "      <td>178.581633</td>\n",
       "      <td>3.0</td>\n",
       "      <td>11.0</td>\n",
       "      <td>...</td>\n",
       "      <td>2.0</td>\n",
       "      <td>36.0</td>\n",
       "      <td>2.0</td>\n",
       "      <td>1.0</td>\n",
       "      <td>4.0</td>\n",
       "      <td>0.0</td>\n",
       "      <td>2.0</td>\n",
       "      <td>2.0</td>\n",
       "      <td>1.0</td>\n",
       "      <td>6.0</td>\n",
       "    </tr>\n",
       "    <tr>\n",
       "      <th>1</th>\n",
       "      <td>208278</td>\n",
       "      <td>98.426973</td>\n",
       "      <td>2.293103</td>\n",
       "      <td>67.531631</td>\n",
       "      <td>104.499870</td>\n",
       "      <td>40.144197</td>\n",
       "      <td>126.898583</td>\n",
       "      <td>110.955982</td>\n",
       "      <td>0.0</td>\n",
       "      <td>4.0</td>\n",
       "      <td>...</td>\n",
       "      <td>3.0</td>\n",
       "      <td>12.0</td>\n",
       "      <td>4.0</td>\n",
       "      <td>0.0</td>\n",
       "      <td>3.0</td>\n",
       "      <td>2.0</td>\n",
       "      <td>0.0</td>\n",
       "      <td>2.0</td>\n",
       "      <td>7.0</td>\n",
       "      <td>5.0</td>\n",
       "    </tr>\n",
       "    <tr>\n",
       "      <th>2</th>\n",
       "      <td>201096</td>\n",
       "      <td>174.865318</td>\n",
       "      <td>2.292398</td>\n",
       "      <td>163.577814</td>\n",
       "      <td>175.592150</td>\n",
       "      <td>37.242541</td>\n",
       "      <td>50.880937</td>\n",
       "      <td>179.086287</td>\n",
       "      <td>4.0</td>\n",
       "      <td>3.0</td>\n",
       "      <td>...</td>\n",
       "      <td>0.0</td>\n",
       "      <td>6.0</td>\n",
       "      <td>4.0</td>\n",
       "      <td>1.0</td>\n",
       "      <td>3.0</td>\n",
       "      <td>0.0</td>\n",
       "      <td>0.0</td>\n",
       "      <td>4.0</td>\n",
       "      <td>1.0</td>\n",
       "      <td>5.0</td>\n",
       "    </tr>\n",
       "    <tr>\n",
       "      <th>3</th>\n",
       "      <td>221352</td>\n",
       "      <td>210.739822</td>\n",
       "      <td>2.179348</td>\n",
       "      <td>164.805242</td>\n",
       "      <td>189.280101</td>\n",
       "      <td>23.024612</td>\n",
       "      <td>69.222569</td>\n",
       "      <td>210.805961</td>\n",
       "      <td>3.0</td>\n",
       "      <td>3.0</td>\n",
       "      <td>...</td>\n",
       "      <td>0.0</td>\n",
       "      <td>8.0</td>\n",
       "      <td>2.0</td>\n",
       "      <td>2.0</td>\n",
       "      <td>0.0</td>\n",
       "      <td>2.0</td>\n",
       "      <td>0.0</td>\n",
       "      <td>1.0</td>\n",
       "      <td>1.0</td>\n",
       "      <td>3.0</td>\n",
       "    </tr>\n",
       "    <tr>\n",
       "      <th>4</th>\n",
       "      <td>166662</td>\n",
       "      <td>147.548565</td>\n",
       "      <td>2.794326</td>\n",
       "      <td>127.917054</td>\n",
       "      <td>155.967905</td>\n",
       "      <td>44.592073</td>\n",
       "      <td>89.481027</td>\n",
       "      <td>157.456385</td>\n",
       "      <td>0.0</td>\n",
       "      <td>1.0</td>\n",
       "      <td>...</td>\n",
       "      <td>2.0</td>\n",
       "      <td>3.0</td>\n",
       "      <td>2.0</td>\n",
       "      <td>0.0</td>\n",
       "      <td>2.0</td>\n",
       "      <td>3.0</td>\n",
       "      <td>2.0</td>\n",
       "      <td>3.0</td>\n",
       "      <td>9.0</td>\n",
       "      <td>8.0</td>\n",
       "    </tr>\n",
       "  </tbody>\n",
       "</table>\n",
       "<p>5 rows × 108 columns</p>\n",
       "</div>"
      ],
      "text/plain": [
       "     size       avg_r  aspect_ratio       avg_b       avg_g    avg_hue  \\\n",
       "0  194535  170.123787      2.381818  111.753798  147.788681  42.172087   \n",
       "1  208278   98.426973      2.293103   67.531631  104.499870  40.144197   \n",
       "2  201096  174.865318      2.292398  163.577814  175.592150  37.242541   \n",
       "3  221352  210.739822      2.179348  164.805242  189.280101  23.024612   \n",
       "4  166662  147.548565      2.794326  127.917054  155.967905  44.592073   \n",
       "\n",
       "      avg_sat  avg_bright    0     1 ...    90    91   92   93   94   95   96  \\\n",
       "0  120.420202  178.581633  3.0  11.0 ...   2.0  36.0  2.0  1.0  4.0  0.0  2.0   \n",
       "1  126.898583  110.955982  0.0   4.0 ...   3.0  12.0  4.0  0.0  3.0  2.0  0.0   \n",
       "2   50.880937  179.086287  4.0   3.0 ...   0.0   6.0  4.0  1.0  3.0  0.0  0.0   \n",
       "3   69.222569  210.805961  3.0   3.0 ...   0.0   8.0  2.0  2.0  0.0  2.0  0.0   \n",
       "4   89.481027  157.456385  0.0   1.0 ...   2.0   3.0  2.0  0.0  2.0  3.0  2.0   \n",
       "\n",
       "    97   98   99  \n",
       "0  2.0  1.0  6.0  \n",
       "1  2.0  7.0  5.0  \n",
       "2  4.0  1.0  5.0  \n",
       "3  1.0  1.0  3.0  \n",
       "4  3.0  9.0  8.0  \n",
       "\n",
       "[5 rows x 108 columns]"
      ]
     },
     "execution_count": 11,
     "metadata": {},
     "output_type": "execute_result"
    }
   ],
   "source": [
    "import pandas as pd\n",
    "import numpy as np\n",
    "\n",
    "data = pd.read_pickle(\"train_with_feature.pkl\")\n",
    "data.head()\n",
    "y = data[[\"Encodings\"]]\n",
    "X = data.drop([\"Encodings\", \"Pictures\"], axis=1)\n",
    "X.head()"
   ]
  },
  {
   "cell_type": "markdown",
   "metadata": {},
   "source": [
    "Logistic Regression"
   ]
  },
  {
   "cell_type": "code",
   "execution_count": 12,
   "metadata": {},
   "outputs": [
    {
     "data": {
      "text/plain": [
       "0.37708203308472205"
      ]
     },
     "execution_count": 12,
     "metadata": {},
     "output_type": "execute_result"
    }
   ],
   "source": [
    "from sklearn.linear_model import LogisticRegression\n",
    "from sklearn.model_selection import KFold\n",
    "import numpy as np\n",
    "\n",
    "clf = LogisticRegression(random_state=42, \n",
    "                         multi_class='auto',\n",
    "                         solver='liblinear',\n",
    "                         max_iter=5000)\n",
    "np.mean(cross_val_score(clf, X, y.values.ravel(), cv=5))"
   ]
  },
  {
   "cell_type": "markdown",
   "metadata": {},
   "source": [
    "K-nearest Neighbors"
   ]
  },
  {
   "cell_type": "code",
   "execution_count": 13,
   "metadata": {},
   "outputs": [
    {
     "data": {
      "text/plain": [
       "0.18267570060010557"
      ]
     },
     "execution_count": 13,
     "metadata": {},
     "output_type": "execute_result"
    }
   ],
   "source": [
    "from sklearn.neighbors import KNeighborsClassifier\n",
    "\n",
    "neigh = KNeighborsClassifier(n_neighbors=3)\n",
    "\n",
    "np.mean(cross_val_score(neigh, X, y.values.ravel(), cv=5))"
   ]
  },
  {
   "cell_type": "markdown",
   "metadata": {},
   "source": [
    "Classification Tree"
   ]
  },
  {
   "cell_type": "code",
   "execution_count": 17,
   "metadata": {},
   "outputs": [
    {
     "data": {
      "text/plain": [
       "0.3078486440614957"
      ]
     },
     "execution_count": 17,
     "metadata": {},
     "output_type": "execute_result"
    }
   ],
   "source": [
    "from sklearn.tree import DecisionTreeClassifier\n",
    "from sklearn.model_selection import cross_val_score\n",
    "\n",
    "clf = DecisionTreeClassifier(random_state=72)\n",
    "np.mean(cross_val_score(clf, X, y, cv=5))"
   ]
  },
  {
   "cell_type": "markdown",
   "metadata": {},
   "source": [
    "Random Forest"
   ]
  },
  {
   "cell_type": "code",
   "execution_count": 15,
   "metadata": {},
   "outputs": [
    {
     "data": {
      "text/plain": [
       "0.4243896286807005"
      ]
     },
     "execution_count": 15,
     "metadata": {},
     "output_type": "execute_result"
    }
   ],
   "source": [
    "from sklearn.ensemble import RandomForestClassifier\n",
    "\n",
    "clf = RandomForestClassifier(n_estimators=500, max_depth=50, random_state=42)\n",
    "np.mean(cross_val_score(clf, X, y.values.ravel(), cv=5))"
   ]
  },
  {
   "cell_type": "markdown",
   "metadata": {},
   "source": [
    "Support Vector Machine"
   ]
  },
  {
   "cell_type": "code",
   "execution_count": 16,
   "metadata": {},
   "outputs": [
    {
     "data": {
      "text/plain": [
       "0.3879162949566787"
      ]
     },
     "execution_count": 16,
     "metadata": {},
     "output_type": "execute_result"
    }
   ],
   "source": [
    "from sklearn.svm import SVC\n",
    "from sklearn.model_selection import cross_val_score\n",
    "from sklearn.multiclass import OneVsRestClassifier\n",
    "from sklearn.preprocessing import MinMaxScaler\n",
    "\n",
    "scaling = MinMaxScaler(feature_range=(-1,1)).fit(X)\n",
    "X_scaled = scaling.transform(X)\n",
    "clf = OneVsRestClassifier(SVC(gamma=\"auto\", probability=False))\n",
    "np.mean(cross_val_score(clf, X_scaled, y.values.ravel(), cv=5))"
   ]
  },
  {
   "cell_type": "code",
   "execution_count": null,
   "metadata": {
    "collapsed": true
   },
   "outputs": [],
   "source": []
  }
 ],
 "metadata": {
  "kernelspec": {
   "display_name": "Python 3",
   "language": "python",
   "name": "python3"
  },
  "language_info": {
   "codemirror_mode": {
    "name": "ipython",
    "version": 3
   },
   "file_extension": ".py",
   "mimetype": "text/x-python",
   "name": "python",
   "nbconvert_exporter": "python",
   "pygments_lexer": "ipython3",
   "version": "3.6.9"
  }
 },
 "nbformat": 4,
 "nbformat_minor": 2
}
